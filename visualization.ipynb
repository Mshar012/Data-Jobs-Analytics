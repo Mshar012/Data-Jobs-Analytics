{
 "cells": [
  {
   "cell_type": "code",
   "execution_count": null,
   "id": "834cf6d1",
   "metadata": {},
   "outputs": [],
   "source": [
    "# AVG Salary Distrubution of each job category\n",
    "\n",
    "def avg_salary_distribution(df):\n",
    "    df_1 = df.filter(items = ['job_category','salary_in_usd'], axis = 1)\n",
    "    df_1 = df_1.groupby('job_category').mean().reset_index() # Indexed cannot be plot so always use reset_index()\n",
    "    df_1.columns = ['Job Category', 'Average Salary']\n",
    "    \n",
    "    fig = px.bar(df_1, \n",
    "                 x = 'Job Category', \n",
    "                 y = 'Average Salary',\n",
    "                 title = 'Average Salary Across Job Category',\n",
    "                 color = 'Job Category'\n",
    "                )\n",
    "    fig.show()"
   ]
  },
  {
   "cell_type": "code",
   "execution_count": null,
   "id": "896d0aa1",
   "metadata": {},
   "outputs": [],
   "source": [
    "# Experience level distribution \n",
    "\n",
    "\n",
    "\n",
    "\n",
    "def distribution_exp_level(df):\n",
    "    df_2 = df['experience_level'].value_counts().reset_index()\n",
    "    df_2.columns = ['Experience Level', 'Count']\n",
    "    fig = px.pie(df_2, \n",
    "                 names ='Experience Level', \n",
    "                 values = 'Count', \n",
    "                 title = 'Distribution Of Experience Level Within The Data Industry')\n",
    "    fig.show()"
   ]
  },
  {
   "cell_type": "code",
   "execution_count": null,
   "id": "cde9b4eb",
   "metadata": {},
   "outputs": [],
   "source": [
    "#Average Salary in each country according to theur job category\n",
    "\n",
    "\n",
    "\n",
    "def avg_salary_region(df):\n",
    "    \n",
    "    df_salary_region = df.groupby('employee_residence').agg({'job_category':'first','salary':'mean'}).reset_index()\n",
    "    df_salary_region = df_salary_region.sort_values(by = 'job_category', ascending = False)\n",
    "    df_salary_region.columns = ['Employee Country','Job Category', 'Average Salary']\n",
    "    \n",
    "    \n",
    "    df_salary_region = tabulate(df_salary_region, headers = 'keys', tablefmt = 'grid', showindex = False)\n",
    "                            \n",
    "    \n",
    "    print(df_salary_region)"
   ]
  },
  {
   "cell_type": "code",
   "execution_count": null,
   "id": "e9d95e7c",
   "metadata": {},
   "outputs": [],
   "source": [
    "# Salary Distribution across each exepericne level\n",
    "\n",
    "def exp_level_salary_dist(df):\n",
    "    \n",
    "    df_box = df.filter(items = ['experience_level', 'salary_in_usd'], axis = 1).reset_index(drop = True)\n",
    "    df_box.columns = ['Experience Level', 'Salary (USD)']\n",
    "    \n",
    "    fig = px.box (df_box, \n",
    "           x = 'Experience Level', \n",
    "           y = 'Salary (USD)',\n",
    "           title = 'Salary Distribution Across Experience Levels',\n",
    "           color = 'Experience Level'\n",
    "          )\n",
    "    fig.show()"
   ]
  },
  {
   "cell_type": "code",
   "execution_count": null,
   "id": "b0ca197f",
   "metadata": {},
   "outputs": [],
   "source": []
  },
  {
   "cell_type": "code",
   "execution_count": null,
   "id": "7fe3ff2e",
   "metadata": {},
   "outputs": [],
   "source": []
  }
 ],
 "metadata": {
  "kernelspec": {
   "display_name": "Python 3 (ipykernel)",
   "language": "python",
   "name": "python3"
  },
  "language_info": {
   "codemirror_mode": {
    "name": "ipython",
    "version": 3
   },
   "file_extension": ".py",
   "mimetype": "text/x-python",
   "name": "python",
   "nbconvert_exporter": "python",
   "pygments_lexer": "ipython3",
   "version": "3.11.5"
  }
 },
 "nbformat": 4,
 "nbformat_minor": 5
}
